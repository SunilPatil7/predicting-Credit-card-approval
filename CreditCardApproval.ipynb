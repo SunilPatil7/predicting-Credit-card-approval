{
  "nbformat": 4,
  "nbformat_minor": 0,
  "metadata": {
    "colab": {
      "name": "CreditCardApproval.ipynb",
      "provenance": [],
      "authorship_tag": "ABX9TyMhow7YsDypTjzFIO/K66Oz",
      "include_colab_link": true
    },
    "kernelspec": {
      "name": "python3",
      "display_name": "Python 3"
    }
  },
  "cells": [
    {
      "cell_type": "markdown",
      "metadata": {
        "id": "view-in-github",
        "colab_type": "text"
      },
      "source": [
        "<a href=\"https://colab.research.google.com/github/SunilPatil7/predicting-Credit-card-approval/blob/master/CreditCardApproval.ipynb\" target=\"_parent\"><img src=\"https://colab.research.google.com/assets/colab-badge.svg\" alt=\"Open In Colab\"/></a>"
      ]
    },
    {
      "cell_type": "code",
      "metadata": {
        "id": "pkOqoKGORyPP",
        "colab_type": "code",
        "colab": {}
      },
      "source": [
        ""
      ],
      "execution_count": 0,
      "outputs": []
    },
    {
      "cell_type": "markdown",
      "metadata": {
        "id": "aveEuaCKR91q",
        "colab_type": "text"
      },
      "source": [
        "This is the task allocated by  ***Technocolabs*** Training during **#100DaysofCode** . "
      ]
    },
    {
      "cell_type": "markdown",
      "metadata": {
        "id": "wcZ3R1xCR7aH",
        "colab_type": "text"
      },
      "source": [
        ""
      ]
    }
  ]
}